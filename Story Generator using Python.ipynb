{
 "cells": [
  {
   "cell_type": "markdown",
   "id": "e9de30ef",
   "metadata": {},
   "source": [
    "# Story Generator using Python "
   ]
  },
  {
   "cell_type": "code",
   "execution_count": 1,
   "id": "2af999c3",
   "metadata": {},
   "outputs": [
    {
     "name": "stdout",
     "output_type": "stream",
     "text": [
      " In the 20 BC there lived a farmer. One full-moon night he was passing by the garden he saw a young lady who seemed very old and feeble digging a well on roadside.\n"
     ]
    }
   ],
   "source": [
    "import random \n",
    "\n",
    "Sentence_starter = ['About 100 years ago', ' In the 20 BC', 'Once upon a time']\n",
    "character = [' there lived a king.',' there was a man named Jack.',\n",
    "             ' there lived a farmer.']\n",
    "time = [' One day', ' One full-moon night']\n",
    "story_plot = [' he was passing by',' he was going for a picnic to']\n",
    "place = [' the mountains', ' the garden']\n",
    "second_character = [' he saw a man', ' he saw a young lady']\n",
    "age = [' who seemed to be in late 20s', ' who seemed very old and feeble']\n",
    "work = [' searching something.', ' digging a well on roadside.']\n",
    "\n",
    "print(random.choice(Sentence_starter)+random.choice(character)+\n",
    "      random.choice(time)+random.choice(story_plot) +\n",
    "      random.choice(place)+random.choice(second_character)+\n",
    "      random.choice(age)+random.choice(work))"
   ]
  },
  {
   "cell_type": "code",
   "execution_count": null,
   "id": "e7189a17",
   "metadata": {},
   "outputs": [],
   "source": []
  }
 ],
 "metadata": {
  "kernelspec": {
   "display_name": "Python 3 (ipykernel)",
   "language": "python",
   "name": "python3"
  },
  "language_info": {
   "codemirror_mode": {
    "name": "ipython",
    "version": 3
   },
   "file_extension": ".py",
   "mimetype": "text/x-python",
   "name": "python",
   "nbconvert_exporter": "python",
   "pygments_lexer": "ipython3",
   "version": "3.9.7"
  }
 },
 "nbformat": 4,
 "nbformat_minor": 5
}
