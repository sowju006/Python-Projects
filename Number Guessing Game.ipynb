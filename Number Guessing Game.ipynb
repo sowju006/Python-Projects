{
 "cells": [
  {
   "cell_type": "markdown",
   "id": "68a31738",
   "metadata": {},
   "source": [
    "# NumberGuessingGame"
   ]
  },
  {
   "cell_type": "code",
   "execution_count": 4,
   "id": "42380b3b",
   "metadata": {},
   "outputs": [
    {
     "name": "stdout",
     "output_type": "stream",
     "text": [
      "Guess the randomly generated number from 1 to 10\n",
      "Enter the guessed number: 2\n",
      " Your number is less than the random number\n",
      "Enter the guessed number: 9\n",
      " Your number is less than the random number\n",
      "Enter the guessed number: 5\n",
      " Your number is less than the random number\n",
      "Enter the guessed number: 1\n",
      " Phew! You lost the game. You are out of chances\n"
     ]
    }
   ],
   "source": [
    "import random\n",
    "\n",
    "class NumberGuessingGame:\n",
    "\n",
    "    def __init__(self):\n",
    "        ## define the range\n",
    "        self.LOWER = 1\n",
    "        self.HIGHER = 10\n",
    "        self.MAX_CHANCES = 3\n",
    "    ## method to generate the random number\n",
    "    def get_random_number(self):\n",
    "        return random.randint(self.LOWER, self.HIGHER)\n",
    "\n",
    "    ## game start method\n",
    "    def start(self):\n",
    "        ## generating the random number\n",
    "        random_number = self.get_random_number()\n",
    "\n",
    "        print(\n",
    "            f\"Guess the randomly generated number from {self.LOWER} to {self.HIGHER}\")\n",
    "\n",
    "        ## heart of the game\n",
    "        chances = 0\n",
    "        while True:\n",
    "            user_number = int(input(\"Enter the guessed number: \"))\n",
    "            if user_number == random_number:\n",
    "                print(\n",
    "                    f\" Hurray! You got it in {chances + 1} step{'s' if chances > 1 else ''}!\")\n",
    "                break\n",
    "            if chances == self.MAX_CHANCES:\n",
    "                print(\" Phew! You lost the game. You are out of chances\")\n",
    "                break\n",
    "            elif user_number < random_number:\n",
    "                print(\" Your number is less than the random number\")\n",
    "            else:\n",
    "                print(\" Your number is greater than the random number\")\n",
    "            chances += 1\n",
    "\n",
    "## instantiating and starting the game\n",
    "numberGuessingGame = NumberGuessingGame()\n",
    "numberGuessingGame.start()\n"
   ]
  }
 ],
 "metadata": {
  "kernelspec": {
   "display_name": "Python 3 (ipykernel)",
   "language": "python",
   "name": "python3"
  },
  "language_info": {
   "codemirror_mode": {
    "name": "ipython",
    "version": 3
   },
   "file_extension": ".py",
   "mimetype": "text/x-python",
   "name": "python",
   "nbconvert_exporter": "python",
   "pygments_lexer": "ipython3",
   "version": "3.9.7"
  }
 },
 "nbformat": 4,
 "nbformat_minor": 5
}
